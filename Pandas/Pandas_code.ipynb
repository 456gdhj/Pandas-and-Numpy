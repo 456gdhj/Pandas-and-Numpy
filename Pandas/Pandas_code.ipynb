{
 "cells": [
  {
   "cell_type": "code",
   "execution_count": 1,
   "id": "e9a73f15-4b0f-440e-a969-e69b2203b500",
   "metadata": {},
   "outputs": [
    {
     "name": "stdout",
     "output_type": "stream",
     "text": [
      "    name  age  salary\n",
      "0   jony   25   30000\n",
      "1  limon   12   45000\n",
      "2   Boss   50   40000\n"
     ]
    }
   ],
   "source": [
    "import pandas as pd\n",
    "data={\"name\":[\"jony\",\"limon\",\"Boss\"],\n",
    "      \"age\":[25,12,50],\n",
    "      \"salary\":[30000,45000,40000]}\n",
    "df=pd.DataFrame(data)\n",
    "print(df)"
   ]
  },
  {
   "cell_type": "code",
   "execution_count": 2,
   "id": "346c5808-defb-47bd-a84c-9e9dc307fcfa",
   "metadata": {},
   "outputs": [
    {
     "name": "stdout",
     "output_type": "stream",
     "text": [
      "   Serial No      ID   Name   Salary  Gender\n",
      "0          1  ID1001   John  50000.0    Male\n",
      "1          2  ID1002   Mike  60000.0    Male\n",
      "2          3  ID1003  Alice  55000.0  Female\n",
      "3          4  ID1004   Sara  48000.0  Female\n",
      "4          5  ID1005    Tom  51000.0    Male\n",
      "5          6  ID1006    Bob  62000.0    Male\n",
      "6          7  ID1007   Anna  59000.0  Female\n",
      "7          8  ID1008  David  50000.0    Male\n",
      "8          9  ID1009  Karen  52000.0  Female\n",
      "9         10  ID1010    Leo      NaN    Male\n"
     ]
    }
   ],
   "source": [
    "data=pd.read_excel(\"Data.xlsx\")\n",
    "print(data)"
   ]
  },
  {
   "cell_type": "code",
   "execution_count": 3,
   "id": "fb7b70a7-6d0e-424e-b82b-5a437e053af1",
   "metadata": {},
   "outputs": [
    {
     "name": "stdout",
     "output_type": "stream",
     "text": [
      "   Serial No      ID   Name  Salary  Gender\n",
      "0          1  ID1001   John   50000    Male\n",
      "1          2  ID1002   Mike   60000    Male\n",
      "2          3  ID1003  Alice   55000  Female\n",
      "3          4  ID1004   Sara   48000  Female\n",
      "4          5  ID1005    Tom   51000    Male\n"
     ]
    }
   ],
   "source": [
    "print(data.head(5)) #print first 5 row"
   ]
  },
  {
   "cell_type": "code",
   "execution_count": 5,
   "id": "7d486f82-4e46-4eef-9905-b106a93f9f25",
   "metadata": {},
   "outputs": [
    {
     "name": "stdout",
     "output_type": "stream",
     "text": [
      "<class 'pandas.core.frame.DataFrame'>\n",
      "RangeIndex: 10 entries, 0 to 9\n",
      "Data columns (total 5 columns):\n",
      " #   Column     Non-Null Count  Dtype \n",
      "---  ------     --------------  ----- \n",
      " 0   Serial No  10 non-null     int64 \n",
      " 1   ID         10 non-null     object\n",
      " 2   Name       10 non-null     object\n",
      " 3   Salary     10 non-null     int64 \n",
      " 4   Gender     10 non-null     object\n",
      "dtypes: int64(2), object(3)\n",
      "memory usage: 532.0+ bytes\n",
      "None\n"
     ]
    }
   ],
   "source": [
    "print(data.info()) #print data type "
   ]
  },
  {
   "cell_type": "code",
   "execution_count": 6,
   "id": "e7d1c808-3af7-4553-8de9-0a2382522d6d",
   "metadata": {},
   "outputs": [
    {
     "data": {
      "text/html": [
       "<div>\n",
       "<style scoped>\n",
       "    .dataframe tbody tr th:only-of-type {\n",
       "        vertical-align: middle;\n",
       "    }\n",
       "\n",
       "    .dataframe tbody tr th {\n",
       "        vertical-align: top;\n",
       "    }\n",
       "\n",
       "    .dataframe thead th {\n",
       "        text-align: right;\n",
       "    }\n",
       "</style>\n",
       "<table border=\"1\" class=\"dataframe\">\n",
       "  <thead>\n",
       "    <tr style=\"text-align: right;\">\n",
       "      <th></th>\n",
       "      <th>Serial No</th>\n",
       "      <th>Salary</th>\n",
       "    </tr>\n",
       "  </thead>\n",
       "  <tbody>\n",
       "    <tr>\n",
       "      <th>count</th>\n",
       "      <td>10.00000</td>\n",
       "      <td>10.000000</td>\n",
       "    </tr>\n",
       "    <tr>\n",
       "      <th>mean</th>\n",
       "      <td>5.50000</td>\n",
       "      <td>55100.000000</td>\n",
       "    </tr>\n",
       "    <tr>\n",
       "      <th>std</th>\n",
       "      <td>3.02765</td>\n",
       "      <td>5043.147166</td>\n",
       "    </tr>\n",
       "    <tr>\n",
       "      <th>min</th>\n",
       "      <td>1.00000</td>\n",
       "      <td>48000.000000</td>\n",
       "    </tr>\n",
       "    <tr>\n",
       "      <th>25%</th>\n",
       "      <td>3.25000</td>\n",
       "      <td>51250.000000</td>\n",
       "    </tr>\n",
       "    <tr>\n",
       "      <th>50%</th>\n",
       "      <td>5.50000</td>\n",
       "      <td>54000.000000</td>\n",
       "    </tr>\n",
       "    <tr>\n",
       "      <th>75%</th>\n",
       "      <td>7.75000</td>\n",
       "      <td>59750.000000</td>\n",
       "    </tr>\n",
       "    <tr>\n",
       "      <th>max</th>\n",
       "      <td>10.00000</td>\n",
       "      <td>62000.000000</td>\n",
       "    </tr>\n",
       "  </tbody>\n",
       "</table>\n",
       "</div>"
      ],
      "text/plain": [
       "       Serial No        Salary\n",
       "count   10.00000     10.000000\n",
       "mean     5.50000  55100.000000\n",
       "std      3.02765   5043.147166\n",
       "min      1.00000  48000.000000\n",
       "25%      3.25000  51250.000000\n",
       "50%      5.50000  54000.000000\n",
       "75%      7.75000  59750.000000\n",
       "max     10.00000  62000.000000"
      ]
     },
     "execution_count": 6,
     "metadata": {},
     "output_type": "execute_result"
    }
   ],
   "source": [
    "data.describe()  #Describtion of data"
   ]
  },
  {
   "cell_type": "code",
   "execution_count": 16,
   "id": "97f8af12-c694-458c-83b1-12d8cee766ae",
   "metadata": {},
   "outputs": [
    {
     "name": "stdout",
     "output_type": "stream",
     "text": [
      "Serial No    0\n",
      "ID           0\n",
      "Name         0\n",
      "Salary       1\n",
      "Gender       0\n",
      "dtype: int64\n"
     ]
    }
   ],
   "source": [
    "print(data.isnull().sum()) #Print number of null data"
   ]
  },
  {
   "cell_type": "code",
   "execution_count": 11,
   "id": "f1c16d2c-80ee-442a-86d3-094f2cd80204",
   "metadata": {},
   "outputs": [
    {
     "name": "stdout",
     "output_type": "stream",
     "text": [
      "1\n"
     ]
    }
   ],
   "source": [
    "print(data[\"Salary\"].duplicated().sum())    #Print how many duplicant in colum "
   ]
  },
  {
   "cell_type": "code",
   "execution_count": 12,
   "id": "d3b19b93-1e27-4fa8-bcfe-82fae7fd12b7",
   "metadata": {},
   "outputs": [
    {
     "name": "stdout",
     "output_type": "stream",
     "text": [
      "   Serial No      ID   Name  Salary  Gender\n",
      "0          1  ID1001   John   50000    Male\n",
      "1          2  ID1002   Mike   60000    Male\n",
      "2          3  ID1003  Alice   55000  Female\n",
      "3          4  ID1004   Sara   48000  Female\n",
      "4          5  ID1005    Tom   51000    Male\n",
      "5          6  ID1006    Bob   62000    Male\n",
      "6          7  ID1007   Anna   59000  Female\n",
      "8          9  ID1009  Karen   52000  Female\n",
      "9         10  ID1010    Leo   61000    Male\n"
     ]
    }
   ],
   "source": [
    "print(data.drop_duplicates(\"Salary\"))         #drop duplicant data"
   ]
  },
  {
   "cell_type": "code",
   "execution_count": 15,
   "id": "a411b1d6-5ebd-4123-afd8-e388c8a32b32",
   "metadata": {},
   "outputs": [
    {
     "name": "stdout",
     "output_type": "stream",
     "text": [
      "   Serial No     ID   Name  Salary  Gender\n",
      "0      False  False  False   False   False\n",
      "1      False  False  False   False   False\n",
      "2      False  False  False   False   False\n",
      "3      False  False  False   False   False\n",
      "4      False  False  False   False   False\n",
      "5      False  False  False   False   False\n",
      "6      False  False  False   False   False\n",
      "7      False  False  False   False   False\n",
      "8      False  False  False   False   False\n",
      "9      False  False  False    True   False\n"
     ]
    }
   ],
   "source": [
    "print(data.isnull())  "
   ]
  },
  {
   "cell_type": "code",
   "execution_count": 17,
   "id": "d76688a9-3a9d-45e8-a511-362b0ab346db",
   "metadata": {},
   "outputs": [
    {
     "name": "stdout",
     "output_type": "stream",
     "text": [
      "   Serial No      ID   Name   Salary  Gender\n",
      "0          1  ID1001   John  50000.0    Male\n",
      "1          2  ID1002   Mike  60000.0    Male\n",
      "2          3  ID1003  Alice  55000.0  Female\n",
      "3          4  ID1004   Sara  48000.0  Female\n",
      "4          5  ID1005    Tom  51000.0    Male\n",
      "5          6  ID1006    Bob  62000.0    Male\n",
      "6          7  ID1007   Anna  59000.0  Female\n",
      "7          8  ID1008  David  50000.0    Male\n",
      "8          9  ID1009  Karen  52000.0  Female\n"
     ]
    }
   ],
   "source": [
    "print(data.dropna()) #Drop row where null value"
   ]
  },
  {
   "cell_type": "code",
   "execution_count": 35,
   "id": "c6330513-f230-4abe-913c-ede3c450ea57",
   "metadata": {},
   "outputs": [
    {
     "name": "stdout",
     "output_type": "stream",
     "text": [
      "{'name': ['jony', 'limon', 'Boss'], 'age': [25, 12, 50], 'salary': [30000, 45000, 40000]}\n"
     ]
    }
   ],
   "source": [
    "print(data)"
   ]
  },
  {
   "cell_type": "code",
   "execution_count": 27,
   "id": "c87ffab5-aa73-4093-928e-8f45001520e6",
   "metadata": {},
   "outputs": [
    {
     "name": "stdout",
     "output_type": "stream",
     "text": [
      "   Serial No      ID   Name   Salary  Gender\n",
      "0          1  ID1001   John  50000.0    Male\n",
      "1          2  ID1002   Mike  60000.0    Male\n",
      "2          3  ID1003  Alice  55000.0  Female\n",
      "3          4  ID1004   Sara  48000.0  Female\n",
      "4          5  ID1005    Tom  51000.0    Male\n",
      "5          6  ID1006    Bob  62000.0    Male\n",
      "6          7  ID1007   Anna  59000.0  Female\n",
      "7          8  ID1008  David  50000.0    Male\n",
      "8          9  ID1009  Karen  52000.0  Female\n",
      "9         10  ID1010    Leo  20000.0    Male\n"
     ]
    }
   ],
   "source": [
    "import numpy as np\n",
    "print(data.replace(np.nan,\"hi\"))"
   ]
  },
  {
   "cell_type": "code",
   "execution_count": 29,
   "id": "27d4c5b2-d031-426d-8a72-34264c777ccc",
   "metadata": {},
   "outputs": [
    {
     "name": "stdout",
     "output_type": "stream",
     "text": [
      "   Serial No      ID   Name   Salary  Gender\n",
      "0          1  ID1001   John  50000.0    Male\n",
      "1          2  ID1002   Mike  60000.0    Male\n",
      "2          3  ID1003  Alice  55000.0  Female\n",
      "3          4  ID1004   Sara  48000.0  Female\n",
      "4          5  ID1005    Tom  51000.0    Male\n",
      "5          6  ID1006    Bob  62000.0    Male\n",
      "6          7  ID1007   Anna  59000.0  Female\n",
      "7          8  ID1008  David  50000.0    Male\n",
      "8          9  ID1009  Karen  52000.0  Female\n",
      "9         10  ID1010    Leo  20000.0    Male\n"
     ]
    }
   ],
   "source": [
    "data[\"Salary\"]=data[\"Salary\"].replace(np.nan,20000)  #Replace null value in a coloum\n",
    "print(data)"
   ]
  },
  {
   "cell_type": "code",
   "execution_count": 30,
   "id": "fb3f4b82-c24f-42c5-92c8-8a58104a1205",
   "metadata": {},
   "outputs": [
    {
     "name": "stdout",
     "output_type": "stream",
     "text": [
      "50700.0\n"
     ]
    }
   ],
   "source": [
    "print(data[\"Salary\"].mean()) #mean of salary"
   ]
  },
  {
   "cell_type": "code",
   "execution_count": 39,
   "id": "d43879a1-addf-4f17-ab7c-32ad2db247eb",
   "metadata": {},
   "outputs": [
    {
     "name": "stdout",
     "output_type": "stream",
     "text": [
      "   Serial No      ID   Name   Salary  Gender\n",
      "0          1  ID1001   John  50000.0    Male\n",
      "1          2  ID1002   Mike  60000.0    Male\n",
      "2          3  ID1003  Alice  55000.0  Female\n",
      "3          4  ID1004   Sara  48000.0  Female\n",
      "4          5  ID1005    Tom  51000.0    Male\n",
      "5          6  ID1006    Bob  62000.0    Male\n",
      "6          7  ID1007   Anna  59000.0  Female\n",
      "7          8  ID1008  David  50000.0    Male\n",
      "8          9  ID1009  Karen  52000.0  Female\n",
      "9         10  ID1010    Leo  52000.0    Male\n"
     ]
    },
    {
     "name": "stderr",
     "output_type": "stream",
     "text": [
      "C:\\Users\\User\\AppData\\Local\\Temp\\ipykernel_9952\\3985543796.py:1: FutureWarning: DataFrame.fillna with 'method' is deprecated and will raise in a future version. Use obj.ffill() or obj.bfill() instead.\n",
      "  print(data.fillna(method=\"ffill\"))\n"
     ]
    }
   ],
   "source": [
    "\n",
    "print(data.fillna(method=\"ffill\")) #fill with forward valu in nullvalue"
   ]
  },
  {
   "cell_type": "code",
   "execution_count": 40,
   "id": "da7d6272-dd58-45ed-8f74-ff557d34a1ac",
   "metadata": {},
   "outputs": [
    {
     "name": "stdout",
     "output_type": "stream",
     "text": [
      "   Serial No      ID   Name   Salary  Gender\n",
      "0          1  ID1001   John  50000.0    Male\n",
      "1          2  ID1002   Mike  60000.0    Male\n",
      "2          3  ID1003  Alice  55000.0  Female\n",
      "3          4  ID1004   Sara  48000.0  Female\n",
      "4          5  ID1005    Tom  51000.0    Male\n",
      "5          6  ID1006    Bob  62000.0    Male\n",
      "6          7  ID1007   Anna  59000.0  Female\n",
      "7          8  ID1008  David  50000.0    Male\n",
      "8          9  ID1009  Karen  52000.0  Female\n",
      "9         10  ID1010    Leo      NaN    Male\n"
     ]
    },
    {
     "name": "stderr",
     "output_type": "stream",
     "text": [
      "C:\\Users\\User\\AppData\\Local\\Temp\\ipykernel_9952\\2967332630.py:1: FutureWarning: DataFrame.fillna with 'method' is deprecated and will raise in a future version. Use obj.ffill() or obj.bfill() instead.\n",
      "  print(data.fillna(method=\"bfill\"))\n"
     ]
    }
   ],
   "source": [
    "\n",
    "print(data.fillna(method=\"bfill\"))  #fill with before value in nullvalue"
   ]
  },
  {
   "cell_type": "code",
   "execution_count": null,
   "id": "654f90ab-fd29-4983-b934-045905e0acf8",
   "metadata": {},
   "outputs": [],
   "source": []
  },
  {
   "cell_type": "code",
   "execution_count": 58,
   "id": "63ce09dc-c35e-4568-b14c-2a3fede259b5",
   "metadata": {},
   "outputs": [
    {
     "name": "stdout",
     "output_type": "stream",
     "text": [
      "    name  age  salary Quality\n",
      "0   jony   25   30000     Low\n",
      "1  limon   12   45000     Low\n",
      "2   Boss   50   40000     Low\n"
     ]
    }
   ],
   "source": [
    "df.loc[(df[\"salary\"]>55000),\"Quality\"]=\"High\"   #print new column with condition \n",
    "df.loc[(df[\"salary\"]<=55000),\"Quality\"]=\"Low\"\n",
    "print(df.head(10))"
   ]
  },
  {
   "cell_type": "code",
   "execution_count": 63,
   "id": "63b6c6e6-a20a-4ba0-b5fd-268491a16b61",
   "metadata": {},
   "outputs": [
    {
     "name": "stdout",
     "output_type": "stream",
     "text": [
      "   Serial No      ID   Name   Salary  Gender        namsal\n",
      "0          1  ID1001   John  50000.0    Male   John50000.0\n",
      "1          2  ID1002   Mike  60000.0    Male   Mike60000.0\n",
      "2          3  ID1003  Alice  55000.0  Female  Alice55000.0\n",
      "3          4  ID1004   Sara  48000.0  Female   Sara48000.0\n",
      "4          5  ID1005    Tom  51000.0    Male    Tom51000.0\n",
      "5          6  ID1006    Bob  62000.0    Male    Bob62000.0\n",
      "6          7  ID1007   Anna  59000.0  Female   Anna59000.0\n",
      "7          8  ID1008  David  50000.0    Male  David50000.0\n",
      "8          9  ID1009  Karen  52000.0  Female  Karen52000.0\n",
      "9         10  ID1010    Leo      NaN    Male        Leonan\n"
     ]
    }
   ],
   "source": [
    "data[\"namsal\"]=data[\"Name\"].str.capitalize()+data[\"Salary\"].astype(str)  #concatinat two column \n",
    "print(data)"
   ]
  },
  {
   "cell_type": "code",
   "execution_count": 64,
   "id": "1b9beecb-5361-4bde-bd38-8bb1b9635d39",
   "metadata": {},
   "outputs": [
    {
     "name": "stdout",
     "output_type": "stream",
     "text": [
      "   Serial No      ID   Name   Salary  Gender        namsal    Bonus\n",
      "0          1  ID1001   John  50000.0    Male   John50000.0  10000.0\n",
      "1          2  ID1002   Mike  60000.0    Male   Mike60000.0  12000.0\n",
      "2          3  ID1003  Alice  55000.0  Female  Alice55000.0  11000.0\n",
      "3          4  ID1004   Sara  48000.0  Female   Sara48000.0   9600.0\n",
      "4          5  ID1005    Tom  51000.0    Male    Tom51000.0  10200.0\n",
      "5          6  ID1006    Bob  62000.0    Male    Bob62000.0  12400.0\n",
      "6          7  ID1007   Anna  59000.0  Female   Anna59000.0  11800.0\n",
      "7          8  ID1008  David  50000.0    Male  David50000.0  10000.0\n",
      "8          9  ID1009  Karen  52000.0  Female  Karen52000.0  10400.0\n",
      "9         10  ID1010    Leo      NaN    Male        Leonan      NaN\n"
     ]
    }
   ],
   "source": [
    "data[\"Bonus\"]=(data[\"Salary\"]/100)*20  #create new coloum with condition\n",
    "print(data)"
   ]
  },
  {
   "cell_type": "code",
   "execution_count": 65,
   "id": "0b7a20fe-d1de-4aa0-a2f1-fc2465a14449",
   "metadata": {},
   "outputs": [
    {
     "name": "stdout",
     "output_type": "stream",
     "text": [
      "   Serial No      ID   Name   Salary  Gender        namsal    Bonus short\n",
      "0          1  ID1001   John  50000.0    Male   John50000.0  10000.0   Joh\n",
      "1          2  ID1002   Mike  60000.0    Male   Mike60000.0  12000.0   Mik\n",
      "2          3  ID1003  Alice  55000.0  Female  Alice55000.0  11000.0   Ali\n",
      "3          4  ID1004   Sara  48000.0  Female   Sara48000.0   9600.0   Sar\n",
      "4          5  ID1005    Tom  51000.0    Male    Tom51000.0  10200.0   Tom\n",
      "5          6  ID1006    Bob  62000.0    Male    Bob62000.0  12400.0   Bob\n",
      "6          7  ID1007   Anna  59000.0  Female   Anna59000.0  11800.0   Ann\n",
      "7          8  ID1008  David  50000.0    Male  David50000.0  10000.0   Dav\n",
      "8          9  ID1009  Karen  52000.0  Female  Karen52000.0  10400.0   Kar\n",
      "9         10  ID1010    Leo      NaN    Male        Leonan      NaN   Leo\n"
     ]
    }
   ],
   "source": [
    "def extract(value):                              #Create new  column for sortform of a column\n",
    "    return value[0:3]\n",
    "data[\"short\"]=data[\"Name\"].map(extract)\n",
    "print(data)\n"
   ]
  },
  {
   "cell_type": "code",
   "execution_count": 70,
   "id": "3e115cb8-62e9-46c9-9be2-6a368434324a",
   "metadata": {},
   "outputs": [
    {
     "name": "stdout",
     "output_type": "stream",
     "text": [
      "        ID\n",
      "Gender    \n",
      "Female   4\n",
      "Male     6\n"
     ]
    }
   ],
   "source": [
    "gp=data.groupby([\"Gender\"]).agg({\"ID\":\"count\"})    #Create group based column value\n",
    "print(gp)"
   ]
  },
  {
   "cell_type": "code",
   "execution_count": 4,
   "id": "7915a854-e024-450e-9ab4-55f35bf7205d",
   "metadata": {},
   "outputs": [
    {
     "name": "stdout",
     "output_type": "stream",
     "text": [
      "    name  age  salary\n",
      "0   jony   60   30000\n",
      "1  limon   70   45000\n",
      "2   Boss   80   40000\n"
     ]
    }
   ],
   "source": [
    "df2=df.copy()\n",
    "df2.loc[0,\"age\"]=60\n",
    "df2.loc[1,\"age\"]=70\n",
    "df2.loc[2,\"age\"]=80\n",
    "print(df2)\n"
   ]
  },
  {
   "cell_type": "code",
   "execution_count": 5,
   "id": "7566396b-f65d-4ac5-9fcf-56a014e553b8",
   "metadata": {},
   "outputs": [
    {
     "name": "stdout",
     "output_type": "stream",
     "text": [
      "   age      \n",
      "  self other\n",
      "0   25    60\n",
      "1   12    70\n",
      "2   50    80\n"
     ]
    }
   ],
   "source": [
    "print(df.compare(df2))   #compare two charts "
   ]
  },
  {
   "cell_type": "code",
   "execution_count": 6,
   "id": "a7c5aa6b-8398-48bd-8e4f-2d634cdc8938",
   "metadata": {},
   "outputs": [
    {
     "name": "stdout",
     "output_type": "stream",
     "text": [
      "  name        age       salary      \n",
      "  self other self other   self other\n",
      "0  NaN   NaN   25    60    NaN   NaN\n",
      "1  NaN   NaN   12    70    NaN   NaN\n",
      "2  NaN   NaN   50    80    NaN   NaN\n"
     ]
    }
   ],
   "source": [
    "print(df.compare(df2,keep_shape=True))"
   ]
  },
  {
   "cell_type": "code",
   "execution_count": 7,
   "id": "cdff4a88-2248-47c2-9b1c-eced79aebcd9",
   "metadata": {},
   "outputs": [
    {
     "name": "stdout",
     "output_type": "stream",
     "text": [
      "    name    id\n",
      "0   jony  2063\n",
      "1  limon  2026\n",
      "2   Boss  2030\n"
     ]
    }
   ],
   "source": [
    "data={\"name\":[\"jony\",\"limon\",\"Boss\"],\n",
    "      \"id\":[2063,2026,2030]}\n",
    "df2=pd.DataFrame(data)\n",
    "print(df2)"
   ]
  },
  {
   "cell_type": "code",
   "execution_count": 9,
   "id": "20c89a33-ad9f-4b83-a386-7d21471e6982",
   "metadata": {},
   "outputs": [
    {
     "name": "stdout",
     "output_type": "stream",
     "text": [
      "    name  age  salary    id\n",
      "0   jony   25   30000  2063\n",
      "1  limon   12   45000  2026\n",
      "2   Boss   50   40000  2030\n"
     ]
    }
   ],
   "source": [
    "print(pd.merge(df,df2,on=\"name\"))  #marge two charts "
   ]
  },
  {
   "cell_type": "code",
   "execution_count": 10,
   "id": "67d0a9f9-ddd2-44c2-9d64-421efae61011",
   "metadata": {},
   "outputs": [
    {
     "name": "stdout",
     "output_type": "stream",
     "text": [
      "    name   age   salary      id\n",
      "0   jony  25.0  30000.0     NaN\n",
      "1  limon  12.0  45000.0     NaN\n",
      "2   Boss  50.0  40000.0     NaN\n",
      "0   jony   NaN      NaN  2063.0\n",
      "1  limon   NaN      NaN  2026.0\n",
      "2   Boss   NaN      NaN  2030.0\n"
     ]
    }
   ],
   "source": [
    "print(pd.concat([df,df2]))"
   ]
  },
  {
   "cell_type": "code",
   "execution_count": null,
   "id": "13c5654b-1ec5-4af9-b7fd-fd2c0f96138f",
   "metadata": {},
   "outputs": [],
   "source": []
  }
 ],
 "metadata": {
  "kernelspec": {
   "display_name": "Python 3 (ipykernel)",
   "language": "python",
   "name": "python3"
  },
  "language_info": {
   "codemirror_mode": {
    "name": "ipython",
    "version": 3
   },
   "file_extension": ".py",
   "mimetype": "text/x-python",
   "name": "python",
   "nbconvert_exporter": "python",
   "pygments_lexer": "ipython3",
   "version": "3.12.4"
  }
 },
 "nbformat": 4,
 "nbformat_minor": 5
}
